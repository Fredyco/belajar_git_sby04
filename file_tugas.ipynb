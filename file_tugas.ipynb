{
 "cells": [
  {
   "cell_type": "code",
   "execution_count": 1,
   "metadata": {},
   "outputs": [
    {
     "name": "stdout",
     "output_type": "stream",
     "text": [
      "123\n"
     ]
    }
   ],
   "source": [
    "print('123')"
   ]
  },
  {
   "cell_type": "markdown",
   "metadata": {},
   "source": [
    "abc"
   ]
  },
  {
   "cell_type": "code",
   "execution_count": null,
   "metadata": {},
   "outputs": [],
   "source": [
    "INI \n",
    "git clone git@github.com:FTDS-assignment-bay/github-starter-course-Fredyco-2.git"
   ]
  },
  {
   "cell_type": "markdown",
   "metadata": {},
   "source": [
    "```bash\n",
    "#1. INI CUMA 1 KALI\n",
    "git clone git@github.com:FTDS-assignment-bay/github-starter-course-Fredyco-2.git\n",
    "\n",
    "\n",
    "# Yang akan sering digunakan adalah step no 2,3 dan 4\n",
    "\n",
    "#2. ini buat list file yang mau ditambah\n",
    "git add .\n",
    "\n",
    "#3. Ini buat memberi pesan apa yang akan tertulis\n",
    "git commit -m \"ini isi pesannya\"\n",
    "\n",
    "#4. Ini buat upload\n",
    "git push\n",
    "```"
   ]
  }
 ],
 "metadata": {
  "kernelspec": {
   "display_name": "base",
   "language": "python",
   "name": "python3"
  },
  "language_info": {
   "codemirror_mode": {
    "name": "ipython",
    "version": 3
   },
   "file_extension": ".py",
   "mimetype": "text/x-python",
   "name": "python",
   "nbconvert_exporter": "python",
   "pygments_lexer": "ipython3",
   "version": "3.11.5"
  }
 },
 "nbformat": 4,
 "nbformat_minor": 2
}
